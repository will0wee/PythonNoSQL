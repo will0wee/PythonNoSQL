{
  "nbformat": 4,
  "nbformat_minor": 0,
  "metadata": {
    "colab": {
      "name": "Untitled1.ipynb",
      "provenance": []
    },
    "kernelspec": {
      "name": "python3",
      "display_name": "Python 3"
    }
  },
  "cells": [
    {
      "cell_type": "code",
      "metadata": {
        "id": "8112ZZuRDhif",
        "colab_type": "code",
        "colab": {
          "base_uri": "https://localhost:8080/",
          "height": 34
        },
        "outputId": "1fe219da-39d1-4aae-847f-c06cb80c69d1"
      },
      "source": [
        "class CompteBancaire:\n",
        "  def __init__(self, nom, solde):\n",
        "    self.nom = nom\n",
        "    self.solde = solde\n",
        "\n",
        "  def depot(self, somme):\n",
        "    self.solde += somme\n",
        "  \n",
        "  def retrait(self, somme):\n",
        "    self.solde -= somme\n",
        "\n",
        "  def affichage(self):\n",
        "    print(\"Le solde du compte bancaire de %s est de %d euros\" % (self.nom, self.solde))\n",
        "\n",
        "compte_1 = CompteBancaire('Duchmol', 800)\n",
        "compte_1.depot(350)\n",
        "compte_1.retrait(200)\n",
        "compte_1.affichage()"
      ],
      "execution_count": 5,
      "outputs": [
        {
          "output_type": "stream",
          "text": [
            "Le solde du compte bancaire de Duchmol est de 950 euros\n"
          ],
          "name": "stdout"
        }
      ]
    }
  ]
}