{
  "nbformat": 4,
  "nbformat_minor": 0,
  "metadata": {
    "colab": {
      "name": "Exo1 classes.ipynb",
      "provenance": [],
      "collapsed_sections": [],
      "authorship_tag": "ABX9TyOYf3metF8jhplKcavIyOJw",
      "include_colab_link": true
    },
    "kernelspec": {
      "name": "python3",
      "display_name": "Python 3"
    }
  },
  "cells": [
    {
      "cell_type": "markdown",
      "metadata": {
        "id": "view-in-github",
        "colab_type": "text"
      },
      "source": [
        "<a href=\"https://colab.research.google.com/github/will0wee/PythonNoSQL/blob/master/Exo1_classes.ipynb\" target=\"_parent\"><img src=\"https://colab.research.google.com/assets/colab-badge.svg\" alt=\"Open In Colab\"/></a>"
      ]
    },
    {
      "cell_type": "code",
      "metadata": {
        "id": "8112ZZuRDhif",
        "colab_type": "code",
        "colab": {
          "base_uri": "https://localhost:8080/",
          "height": 50
        },
        "outputId": "ddbe3662-72d8-4231-e996-4798bdb72846"
      },
      "source": [
        "class CompteBancaire:\n",
        "  def __init__(self, nom = 'Dupont', solde = 1000):\n",
        "    self.nom = nom\n",
        "    self.solde = solde\n",
        "\n",
        "  def depot(self, somme):\n",
        "    self.solde += somme\n",
        "  \n",
        "  def retrait(self, somme):\n",
        "    self.solde -= somme\n",
        "\n",
        "  def affichage(self):\n",
        "    print(\"Le solde du compte bancaire de %s est de %d euros\" % (self.nom, self.solde))\n",
        "\n",
        "compte_1 = CompteBancaire('Duchmol', 800)\n",
        "compte_1.depot(350)\n",
        "compte_1.retrait(200)\n",
        "compte_1.affichage()\n",
        "\n",
        "compte_2 = CompteBancaire()\n",
        "compte_2.affichage()"
      ],
      "execution_count": 8,
      "outputs": [
        {
          "output_type": "stream",
          "text": [
            "Le solde du compte bancaire de Duchmol est de 950 euros\n",
            "Le solde du compte bancaire de Dupont est de 1000 euros\n"
          ],
          "name": "stdout"
        }
      ]
    },
    {
      "cell_type": "code",
      "metadata": {
        "id": "zfP7aUPcSamF",
        "colab_type": "code",
        "colab": {
          "base_uri": "https://localhost:8080/",
          "height": 50
        },
        "outputId": "07efec20-83fd-45e3-a183-95e0a7ba2faa"
      },
      "source": [
        "class Point:\n",
        "  def __init__(self, x, y, z = None):\n",
        "    self.x = x\n",
        "    self.y = y\n",
        "    self.z = z\n",
        "\n",
        "  def toString(self):\n",
        "    if self.z is None:\n",
        "      print(\"P(%f ,%f)\" % (self.x, self.y))\n",
        "    else:\n",
        "      print(\"P(%f ,%f, %f)\" % (self.x, self.y, self.z))\n",
        "\n",
        "point1 = Point(1,2,0)\n",
        "point1.toString()\n",
        "\n",
        "point2 = Point(1,2)\n",
        "point2.toString()"
      ],
      "execution_count": 12,
      "outputs": [
        {
          "output_type": "stream",
          "text": [
            "P(1.000000 ,2.000000, 0.000000)\n",
            "P(1.000000 ,2.000000)\n"
          ],
          "name": "stdout"
        }
      ]
    },
    {
      "cell_type": "code",
      "metadata": {
        "id": "eo5xxLrxUDSg",
        "colab_type": "code",
        "colab": {
          "base_uri": "https://localhost:8080/",
          "height": 269
        },
        "outputId": "2f0b0cf2-0c61-4092-ebf5-9175f1e182d8"
      },
      "source": [
        "class DateNaissance:\n",
        "\n",
        "  def __init__(self, jour, mois, annee):\n",
        "    self.jour = jour\n",
        "    self.mois = mois\n",
        "    self.annee = annee\n",
        "\n",
        "  def toString(self):\n",
        "    print(\"%s / %s / %s\" % (self.jour, self.mois, self.annee))\n",
        "\n",
        "class Personne:\n",
        "\n",
        "  def __init__(self, nom, prenom, dateDeNaissance):\n",
        "    self.nom = nom\n",
        "    self.prenom = prenom\n",
        "    self.dateDeNaissance = dateDeNaissance\n",
        "\n",
        "  def afficher(self):\n",
        "    print(\"Nom: %s\\nPrénom: %s\\nDate de naissance: %s\" % (self.nom, self.prenom, self.dateDeNaissance.toString()))\n",
        "\n",
        "class Employe(Personne):\n",
        "\n",
        "  def __init__(self, nom, prenom, dateDeNaissance, salaire):\n",
        "    Personne.__init__(self, nom, prenom, dateDeNaissance)\n",
        "    self.salaire = salaire\n",
        "  \n",
        "  def afficher(self):\n",
        "    print(\"Nom: %s\\nPrénom: %s\\nDate de naissance: %s\\nSalaire: %d\" % (self.nom, self.prenom, self.dateDeNaissance.toString(), self.salaire))\n",
        "\n",
        "class Chef(Employe):\n",
        "\n",
        "  def __init__(self, nom, prenom, dateDeNaissance, salaire, service):\n",
        "    Employe.__init__(self, nom, prenom, dateDeNaissance, salaire)\n",
        "    self.service = service\n",
        "\n",
        "  def afficher(self):\n",
        "    print(\"Nom: %s\\nPrénom: %s\\nDate de naissance: %s\\nSalaire: %d\\nService: %s\" % (self.nom, self.prenom, self.dateDeNaissance.toString(), self.salaire, self.service))\n",
        "\n",
        "personne1 = Personne(\"Damien\", \"POPIEL\", DateNaissance('28', '06', '1997'))\n",
        "personne1.afficher()\n",
        "\n",
        "employe1 = Employe(\"Damien\", \"POPIEL\", DateNaissance('28', '06', '1997'), 1500)\n",
        "employe1.afficher()\n",
        "\n",
        "chef1 = Chef(\"Damien\", \"POPIEL\", DateNaissance('28', '06', '1997'), 1500, \"Dev\")\n",
        "chef1.afficher()"
      ],
      "execution_count": 27,
      "outputs": [
        {
          "output_type": "stream",
          "text": [
            "28 / 06 / 1997\n",
            "Nom: Damien\n",
            "Prénom: POPIEL\n",
            "Date de naissance: None\n",
            "28 / 06 / 1997\n",
            "Nom: Damien\n",
            "Prénom: POPIEL\n",
            "Date de naissance: None\n",
            "Salaire: 1500\n",
            "28 / 06 / 1997\n",
            "Nom: Damien\n",
            "Prénom: POPIEL\n",
            "Date de naissance: None\n",
            "Salaire: 1500\n",
            "Service: Dev\n"
          ],
          "name": "stdout"
        }
      ]
    },
    {
      "cell_type": "code",
      "metadata": {
        "id": "ed_hSWxTZums",
        "colab_type": "code",
        "colab": {
          "base_uri": "https://localhost:8080/",
          "height": 252
        },
        "outputId": "067a7e8d-f8f4-489c-d6f7-9b88817790c3"
      },
      "source": [
        "class Poste:\n",
        "\n",
        "  def __init__(self, expediteur, destinataire, poids, modeExpedition):\n",
        "      self.expediteur = expediteur\n",
        "      self.destinataire = destinataire\n",
        "      self.poids = poids\n",
        "      self.modeExpedition = modeExpedition\n",
        "\n",
        "  def calculTimbre(self):\n",
        "     pass\n",
        "\n",
        "  def toString(self):\n",
        "      pass\n",
        "\n",
        "class Lettre(Poste):\n",
        "\n",
        "  def __init__(self, expediteur, destinataire, poids, modeExpedition, formatFeuille):\n",
        "    Poste.__init__(self, expediteur, destinataire, poids, modeExpedition)\n",
        "    self.formatFeuille = formatFeuille\n",
        "    self.prixTimbre = self.calculTimbre()\n",
        "\n",
        "  def calculTimbre(self):\n",
        "    return ((2.50 + (self.poids / 1000), 3.50 + (self.poids / 1000))[self.formatFeuille == \"A4\"], (2.50 + (self.poids / 1000)*2 , 3.50 + (self.poids / 1000)*2)[self.formatFeuille == \"A4\"])[self.modeExpedition == \"Normal\"]\n",
        "\n",
        "  def toString(self):\n",
        "    print(\"Lettre :\\nDestinataire : %s\\nExpéditeur : %s\\nPoids : %d grammes\\nMode : %s\\nFormat : %s\\nPrix du timbre : %f\" % (self.destinataire, self.expediteur, self.poids, self.modeExpedition, self.formatFeuille, self.prixTimbre))\n",
        "\n",
        "class Colis(Poste):\n",
        "\n",
        "  def __init__(self, expediteur, destinataire, poids, modeExpedition, volume):\n",
        "    Poste.__init__(self, expediteur, destinataire, poids, modeExpedition)\n",
        "    self.volume = volume\n",
        "    self.prixTimbre = self.calculTimbre()\n",
        "\n",
        "  def calculTimbre(self):\n",
        "    return (0.25*self.volume*self.poids, 0.25*self.volume*self.poids*2)[self.modeExpedition == \"Normal\"]\n",
        "\n",
        "  def toString(self):\n",
        "    print(\"Lettre :\\nDestinataire : %s\\nExpéditeur : %s\\nPoids : %d grammes\\nMode : %s\\nVolume : %s Litres\\nPrix du timbre : %f\" % (self.destinataire, self.expediteur, self.poids, self.modeExpedition, self.volume, self.prixTimbre))\n",
        "\n",
        "L1 = Lettre(\"Lille\", \"Paris\", 80, \"Normal\", \"A4\")\n",
        "L1.toString()\n",
        "\n",
        "C1 = Colis(\"Lille\", \"Paris\", 3500, \"Normal\", 2.25)\n",
        "C1.toString()"
      ],
      "execution_count": 38,
      "outputs": [
        {
          "output_type": "stream",
          "text": [
            "Lettre :\n",
            "Destinataire : Paris\n",
            "Expéditeur : Lille\n",
            "Poids : 80 grammes\n",
            "Mode : Normal\n",
            "Format : A4\n",
            "Prix du timbre : 3.660000\n",
            "Lettre :\n",
            "Destinataire : Paris\n",
            "Expéditeur : Lille\n",
            "Poids : 3500 grammes\n",
            "Mode : Normal\n",
            "Volume : 2.25 Litres\n",
            "Prix du timbre : 3937.500000\n"
          ],
          "name": "stdout"
        }
      ]
    }
  ]
}